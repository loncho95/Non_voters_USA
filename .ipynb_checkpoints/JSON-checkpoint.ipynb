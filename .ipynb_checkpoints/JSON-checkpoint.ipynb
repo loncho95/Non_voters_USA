{
 "cells": [
  {
   "cell_type": "code",
   "execution_count": 2,
   "id": "1712eac2",
   "metadata": {},
   "outputs": [],
   "source": [
    "import json\n",
    "import csv  # Import the csv module\n",
    "\n",
    "# Open the CSV file and create a DictReader object\n",
    "csv_file = open('nonvoters_data.csv', 'r')\n",
    "csv_reader = csv.DictReader(csv_file)\n",
    "\n",
    "# Read the contents of the CSV file into a list of dictionaries\n",
    "data = [row for row in csv_reader]\n",
    "\n",
    "# Close the CSV file\n",
    "csv_file.close()\n",
    "\n",
    "# Convert the list of dictionaries to a JSON string\n",
    "json_data = json.dumps(data)\n",
    "\n",
    "# Write the JSON string to a file\n",
    "with open('nonvoters_data.json', 'w') as json_file:\n",
    "    json_file.write(json_data)"
   ]
  }
 ],
 "metadata": {
  "kernelspec": {
   "display_name": "Python [conda env:PythonData] *",
   "language": "python",
   "name": "conda-env-PythonData-py"
  },
  "language_info": {
   "codemirror_mode": {
    "name": "ipython",
    "version": 3
   },
   "file_extension": ".py",
   "mimetype": "text/x-python",
   "name": "python",
   "nbconvert_exporter": "python",
   "pygments_lexer": "ipython3",
   "version": "3.10.9"
  }
 },
 "nbformat": 4,
 "nbformat_minor": 5
}
