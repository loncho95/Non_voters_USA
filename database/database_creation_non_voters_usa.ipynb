{
 "cells": [
  {
   "cell_type": "code",
   "execution_count": 1,
   "id": "96662323",
   "metadata": {},
   "outputs": [],
   "source": [
    "import sqlite3\n",
    "import pandas as pd"
   ]
  },
  {
   "cell_type": "code",
   "execution_count": 2,
   "id": "bfd4f6fa",
   "metadata": {},
   "outputs": [],
   "source": [
    "conn = sqlite3.connect('non_voters_usa.sqlite')"
   ]
  },
  {
   "cell_type": "code",
   "execution_count": 3,
   "id": "09bd7163",
   "metadata": {},
   "outputs": [
    {
     "data": {
      "text/plain": [
       "<sqlite3.Cursor at 0x7fe0ae2d6d40>"
      ]
     },
     "execution_count": 3,
     "metadata": {},
     "output_type": "execute_result"
    }
   ],
   "source": [
    "create_sql_agree_disagree_likert = \"CREATE TABLE IF NOT EXISTS agree_disagree_likert (ID INTEGER PRIMARY KEY, \\\n",
    "                                agree_disagree_response TEXT)\"\n",
    "cursor = conn.cursor()\n",
    "cursor.execute(create_sql_agree_disagree_likert)\n",
    "\n",
    "insert_sql_agree_disagree_likert = f\"INSERT INTO agree_disagree_likert (ID, agree_disagree_response)\\\n",
    "                                VALUES (1, 'Strongly agree'), (2, 'Somewhat agree'), (3, 'Somewhat disagree'),\\\n",
    "                                (4, 'Strongly disagree')\"\n",
    "cursor.execute(insert_sql_agree_disagree_likert)"
   ]
  },
  {
   "cell_type": "code",
   "execution_count": 4,
   "id": "a39f9209",
   "metadata": {},
   "outputs": [
    {
     "data": {
      "text/plain": [
       "<sqlite3.Cursor at 0x7fe0ae2d6ec0>"
      ]
     },
     "execution_count": 4,
     "metadata": {},
     "output_type": "execute_result"
    }
   ],
   "source": [
    "create_sql_impact_likert = \"CREATE TABLE IF NOT EXISTS impact_likert (ID INTEGER PRIMARY KEY, \\\n",
    "                                impact_response TEXT)\"\n",
    "cursor = conn.cursor()\n",
    "cursor.execute(create_sql_impact_likert)\n",
    "\n",
    "insert_sql_impact_likert = f\"INSERT INTO impact_likert (ID, impact_response)\\\n",
    "                                VALUES (1, 'A significant impact'), (2, 'Somewhat of an impact'),\\\n",
    "                                (3, 'Just a slight impact'), (4, 'No impact at all')\"\n",
    "cursor.execute(insert_sql_impact_likert)"
   ]
  },
  {
   "cell_type": "code",
   "execution_count": 5,
   "id": "212db390",
   "metadata": {},
   "outputs": [
    {
     "data": {
      "text/plain": [
       "<sqlite3.Cursor at 0x7fe0ae2d7040>"
      ]
     },
     "execution_count": 5,
     "metadata": {},
     "output_type": "execute_result"
    }
   ],
   "source": [
    "create_sql_q5_responses = \"CREATE TABLE IF NOT EXISTS q5_responses (ID INTEGER PRIMARY KEY, \\\n",
    "                                q5_responses TEXT)\"\n",
    "cursor = conn.cursor()\n",
    "cursor.execute(create_sql_q5_responses)\n",
    "\n",
    "insert_sql_q5_responses = f\"INSERT INTO q5_responses (ID, q5_responses)\\\n",
    "                                VALUES (1, 'Who wins the election really matters'),\\\n",
    "                                (2, 'Things will be pretty much the same')\"\n",
    "cursor.execute(insert_sql_q5_responses)"
   ]
  },
  {
   "cell_type": "code",
   "execution_count": 6,
   "id": "0c8e61bb",
   "metadata": {},
   "outputs": [
    {
     "data": {
      "text/plain": [
       "<sqlite3.Cursor at 0x7fe0ae2d7340>"
      ]
     },
     "execution_count": 6,
     "metadata": {},
     "output_type": "execute_result"
    }
   ],
   "source": [
    "create_sql_q30_responses = \"CREATE TABLE IF NOT EXISTS q30_responses (ID INTEGER PRIMARY KEY, \\\n",
    "                                q30_responses TEXT)\"\n",
    "cursor = conn.cursor()\n",
    "cursor.execute(create_sql_q30_responses)\n",
    "\n",
    "insert_sql_q30_responses = f\"INSERT INTO q30_responses (ID, q30_responses) VALUES (1, 'Republican'), \\\n",
    "                        (2, 'Democrat'), (3, 'Independent'), (4, 'Another party'), (5, 'No preference')\"\n",
    "cursor.execute(insert_sql_q30_responses)"
   ]
  },
  {
   "cell_type": "code",
   "execution_count": 7,
   "id": "c65714ba",
   "metadata": {},
   "outputs": [
    {
     "data": {
      "text/plain": [
       "<sqlite3.Cursor at 0x7fe0ae2d7140>"
      ]
     },
     "execution_count": 7,
     "metadata": {},
     "output_type": "execute_result"
    }
   ],
   "source": [
    "create_sql_educ_responses = \"CREATE TABLE IF NOT EXISTS educ_responses (ID INTEGER PRIMARY KEY, \\\n",
    "                                educ_responses TEXT)\"\n",
    "cursor = conn.cursor()\n",
    "cursor.execute(create_sql_educ_responses)\n",
    "\n",
    "insert_sql_educ_responses = f\"INSERT INTO educ_responses (ID, educ_responses) VALUES (1, 'College'), \\\n",
    "                            (2, 'High school or less'), (3, 'Some college')\"\n",
    "cursor.execute(insert_sql_educ_responses)"
   ]
  },
  {
   "cell_type": "code",
   "execution_count": 8,
   "id": "ac3e29c6",
   "metadata": {},
   "outputs": [
    {
     "data": {
      "text/plain": [
       "<sqlite3.Cursor at 0x7fe0ae2d75c0>"
      ]
     },
     "execution_count": 8,
     "metadata": {},
     "output_type": "execute_result"
    }
   ],
   "source": [
    "create_sql_race_responses = \"CREATE TABLE IF NOT EXISTS race_responses (ID INTEGER PRIMARY KEY, \\\n",
    "                                race_responses TEXT)\"\n",
    "cursor = conn.cursor()\n",
    "cursor.execute(create_sql_race_responses)\n",
    "\n",
    "insert_sql_race_responses = f\"INSERT INTO race_responses (ID, race_responses) VALUES (1, 'Black'), (2, 'Hispanic'), \\\n",
    "                            (3, 'Other/Mixed'), (4, 'White')\"\n",
    "cursor.execute(insert_sql_race_responses)"
   ]
  },
  {
   "cell_type": "code",
   "execution_count": 9,
   "id": "f4038d0a",
   "metadata": {},
   "outputs": [
    {
     "data": {
      "text/plain": [
       "<sqlite3.Cursor at 0x7fe0ae2d77c0>"
      ]
     },
     "execution_count": 9,
     "metadata": {},
     "output_type": "execute_result"
    }
   ],
   "source": [
    "create_sql_gender_responses = \"CREATE TABLE IF NOT EXISTS gender_responses (ID INTEGER PRIMARY KEY, \\\n",
    "                                gender_responses TEXT)\"\n",
    "cursor = conn.cursor()\n",
    "cursor.execute(create_sql_gender_responses)\n",
    "\n",
    "insert_sql_gender_responses = f\"INSERT INTO gender_responses (ID, gender_responses) VALUES (1, 'Female'), (2, 'Male')\"\n",
    "cursor.execute(insert_sql_gender_responses)"
   ]
  },
  {
   "cell_type": "code",
   "execution_count": 10,
   "id": "76fc3e74",
   "metadata": {},
   "outputs": [
    {
     "data": {
      "text/plain": [
       "<sqlite3.Cursor at 0x7fe0ae2d79c0>"
      ]
     },
     "execution_count": 10,
     "metadata": {},
     "output_type": "execute_result"
    }
   ],
   "source": [
    "create_sql_income_cat_responses = \"CREATE TABLE IF NOT EXISTS income_cat_responses (ID INTEGER PRIMARY KEY, \\\n",
    "                                income_cat_responses TEXT)\"\n",
    "cursor = conn.cursor()\n",
    "cursor.execute(create_sql_income_cat_responses)\n",
    "\n",
    "insert_sql_income_cat_responses = f\"INSERT INTO income_cat_responses (ID, income_cat_responses) VALUES \\\n",
    "                                (1, 'Less than $40k'), (2, '$40-75k'), (3, '$75-125k'), (4, '$125k or more')\"\n",
    "cursor.execute(insert_sql_income_cat_responses)"
   ]
  },
  {
   "cell_type": "code",
   "execution_count": 11,
   "id": "0edf0389",
   "metadata": {},
   "outputs": [
    {
     "data": {
      "text/plain": [
       "<sqlite3.Cursor at 0x7fe0ae2d7a40>"
      ]
     },
     "execution_count": 11,
     "metadata": {},
     "output_type": "execute_result"
    }
   ],
   "source": [
    "create_sql_voter_category_responses = \"CREATE TABLE IF NOT EXISTS voter_category_responses (ID INTEGER PRIMARY KEY, \\\n",
    "                                voter_category_responses TEXT)\"\n",
    "cursor = conn.cursor()\n",
    "cursor.execute(create_sql_voter_category_responses)\n",
    "\n",
    "insert_sql_voter_category_responses = f\"INSERT INTO voter_category_responses (ID, voter_category_responses) VALUES \\\n",
    "                                (1, 'Always'), (2, 'Sporadic'), (3, 'Rarely/Never')\"\n",
    "cursor.execute(insert_sql_voter_category_responses)"
   ]
  },
  {
   "cell_type": "code",
   "execution_count": 12,
   "id": "378f82e8",
   "metadata": {},
   "outputs": [
    {
     "data": {
      "text/html": [
       "<div>\n",
       "<style scoped>\n",
       "    .dataframe tbody tr th:only-of-type {\n",
       "        vertical-align: middle;\n",
       "    }\n",
       "\n",
       "    .dataframe tbody tr th {\n",
       "        vertical-align: top;\n",
       "    }\n",
       "\n",
       "    .dataframe thead th {\n",
       "        text-align: right;\n",
       "    }\n",
       "</style>\n",
       "<table border=\"1\" class=\"dataframe\">\n",
       "  <thead>\n",
       "    <tr style=\"text-align: right;\">\n",
       "      <th></th>\n",
       "      <th>RespId</th>\n",
       "      <th>Q3_1</th>\n",
       "      <th>Q3_2</th>\n",
       "      <th>Q3_3</th>\n",
       "      <th>Q3_4</th>\n",
       "      <th>Q3_5</th>\n",
       "      <th>Q3_6</th>\n",
       "      <th>Q4_1</th>\n",
       "      <th>Q4_2</th>\n",
       "      <th>Q4_3</th>\n",
       "      <th>...</th>\n",
       "      <th>Q4_5</th>\n",
       "      <th>Q4_6</th>\n",
       "      <th>Q5</th>\n",
       "      <th>Q30</th>\n",
       "      <th>ppage</th>\n",
       "      <th>educ</th>\n",
       "      <th>race</th>\n",
       "      <th>gender</th>\n",
       "      <th>income_cat</th>\n",
       "      <th>voter_category</th>\n",
       "    </tr>\n",
       "  </thead>\n",
       "  <tbody>\n",
       "    <tr>\n",
       "      <th>0</th>\n",
       "      <td>470001</td>\n",
       "      <td>1</td>\n",
       "      <td>1</td>\n",
       "      <td>4</td>\n",
       "      <td>4</td>\n",
       "      <td>3</td>\n",
       "      <td>2</td>\n",
       "      <td>2</td>\n",
       "      <td>1</td>\n",
       "      <td>2</td>\n",
       "      <td>...</td>\n",
       "      <td>2</td>\n",
       "      <td>2</td>\n",
       "      <td>1</td>\n",
       "      <td>2</td>\n",
       "      <td>73</td>\n",
       "      <td>1</td>\n",
       "      <td>4</td>\n",
       "      <td>1</td>\n",
       "      <td>3</td>\n",
       "      <td>1</td>\n",
       "    </tr>\n",
       "    <tr>\n",
       "      <th>1</th>\n",
       "      <td>470002</td>\n",
       "      <td>3</td>\n",
       "      <td>3</td>\n",
       "      <td>4</td>\n",
       "      <td>3</td>\n",
       "      <td>3</td>\n",
       "      <td>2</td>\n",
       "      <td>2</td>\n",
       "      <td>2</td>\n",
       "      <td>2</td>\n",
       "      <td>...</td>\n",
       "      <td>3</td>\n",
       "      <td>1</td>\n",
       "      <td>1</td>\n",
       "      <td>3</td>\n",
       "      <td>90</td>\n",
       "      <td>1</td>\n",
       "      <td>4</td>\n",
       "      <td>1</td>\n",
       "      <td>4</td>\n",
       "      <td>1</td>\n",
       "    </tr>\n",
       "    <tr>\n",
       "      <th>2</th>\n",
       "      <td>470003</td>\n",
       "      <td>2</td>\n",
       "      <td>2</td>\n",
       "      <td>3</td>\n",
       "      <td>3</td>\n",
       "      <td>2</td>\n",
       "      <td>2</td>\n",
       "      <td>2</td>\n",
       "      <td>2</td>\n",
       "      <td>3</td>\n",
       "      <td>...</td>\n",
       "      <td>2</td>\n",
       "      <td>3</td>\n",
       "      <td>1</td>\n",
       "      <td>2</td>\n",
       "      <td>53</td>\n",
       "      <td>1</td>\n",
       "      <td>4</td>\n",
       "      <td>2</td>\n",
       "      <td>4</td>\n",
       "      <td>2</td>\n",
       "    </tr>\n",
       "    <tr>\n",
       "      <th>3</th>\n",
       "      <td>470007</td>\n",
       "      <td>1</td>\n",
       "      <td>1</td>\n",
       "      <td>4</td>\n",
       "      <td>4</td>\n",
       "      <td>2</td>\n",
       "      <td>1</td>\n",
       "      <td>1</td>\n",
       "      <td>2</td>\n",
       "      <td>2</td>\n",
       "      <td>...</td>\n",
       "      <td>2</td>\n",
       "      <td>2</td>\n",
       "      <td>1</td>\n",
       "      <td>2</td>\n",
       "      <td>58</td>\n",
       "      <td>3</td>\n",
       "      <td>1</td>\n",
       "      <td>1</td>\n",
       "      <td>2</td>\n",
       "      <td>2</td>\n",
       "    </tr>\n",
       "    <tr>\n",
       "      <th>4</th>\n",
       "      <td>480008</td>\n",
       "      <td>4</td>\n",
       "      <td>1</td>\n",
       "      <td>1</td>\n",
       "      <td>1</td>\n",
       "      <td>2</td>\n",
       "      <td>4</td>\n",
       "      <td>1</td>\n",
       "      <td>1</td>\n",
       "      <td>1</td>\n",
       "      <td>...</td>\n",
       "      <td>1</td>\n",
       "      <td>1</td>\n",
       "      <td>1</td>\n",
       "      <td>1</td>\n",
       "      <td>81</td>\n",
       "      <td>2</td>\n",
       "      <td>4</td>\n",
       "      <td>2</td>\n",
       "      <td>2</td>\n",
       "      <td>1</td>\n",
       "    </tr>\n",
       "    <tr>\n",
       "      <th>...</th>\n",
       "      <td>...</td>\n",
       "      <td>...</td>\n",
       "      <td>...</td>\n",
       "      <td>...</td>\n",
       "      <td>...</td>\n",
       "      <td>...</td>\n",
       "      <td>...</td>\n",
       "      <td>...</td>\n",
       "      <td>...</td>\n",
       "      <td>...</td>\n",
       "      <td>...</td>\n",
       "      <td>...</td>\n",
       "      <td>...</td>\n",
       "      <td>...</td>\n",
       "      <td>...</td>\n",
       "      <td>...</td>\n",
       "      <td>...</td>\n",
       "      <td>...</td>\n",
       "      <td>...</td>\n",
       "      <td>...</td>\n",
       "      <td>...</td>\n",
       "    </tr>\n",
       "    <tr>\n",
       "      <th>5831</th>\n",
       "      <td>477662</td>\n",
       "      <td>1</td>\n",
       "      <td>1</td>\n",
       "      <td>3</td>\n",
       "      <td>1</td>\n",
       "      <td>1</td>\n",
       "      <td>2</td>\n",
       "      <td>1</td>\n",
       "      <td>1</td>\n",
       "      <td>2</td>\n",
       "      <td>...</td>\n",
       "      <td>2</td>\n",
       "      <td>2</td>\n",
       "      <td>1</td>\n",
       "      <td>2</td>\n",
       "      <td>27</td>\n",
       "      <td>3</td>\n",
       "      <td>2</td>\n",
       "      <td>2</td>\n",
       "      <td>2</td>\n",
       "      <td>1</td>\n",
       "    </tr>\n",
       "    <tr>\n",
       "      <th>5832</th>\n",
       "      <td>477663</td>\n",
       "      <td>1</td>\n",
       "      <td>1</td>\n",
       "      <td>3</td>\n",
       "      <td>2</td>\n",
       "      <td>2</td>\n",
       "      <td>1</td>\n",
       "      <td>1</td>\n",
       "      <td>1</td>\n",
       "      <td>2</td>\n",
       "      <td>...</td>\n",
       "      <td>1</td>\n",
       "      <td>3</td>\n",
       "      <td>1</td>\n",
       "      <td>2</td>\n",
       "      <td>59</td>\n",
       "      <td>2</td>\n",
       "      <td>4</td>\n",
       "      <td>1</td>\n",
       "      <td>4</td>\n",
       "      <td>3</td>\n",
       "    </tr>\n",
       "    <tr>\n",
       "      <th>5833</th>\n",
       "      <td>488322</td>\n",
       "      <td>1</td>\n",
       "      <td>3</td>\n",
       "      <td>4</td>\n",
       "      <td>2</td>\n",
       "      <td>4</td>\n",
       "      <td>2</td>\n",
       "      <td>2</td>\n",
       "      <td>1</td>\n",
       "      <td>1</td>\n",
       "      <td>...</td>\n",
       "      <td>2</td>\n",
       "      <td>2</td>\n",
       "      <td>1</td>\n",
       "      <td>2</td>\n",
       "      <td>51</td>\n",
       "      <td>1</td>\n",
       "      <td>3</td>\n",
       "      <td>2</td>\n",
       "      <td>4</td>\n",
       "      <td>2</td>\n",
       "    </tr>\n",
       "    <tr>\n",
       "      <th>5834</th>\n",
       "      <td>488325</td>\n",
       "      <td>4</td>\n",
       "      <td>3</td>\n",
       "      <td>3</td>\n",
       "      <td>3</td>\n",
       "      <td>3</td>\n",
       "      <td>3</td>\n",
       "      <td>2</td>\n",
       "      <td>2</td>\n",
       "      <td>1</td>\n",
       "      <td>...</td>\n",
       "      <td>2</td>\n",
       "      <td>2</td>\n",
       "      <td>2</td>\n",
       "      <td>3</td>\n",
       "      <td>22</td>\n",
       "      <td>2</td>\n",
       "      <td>1</td>\n",
       "      <td>1</td>\n",
       "      <td>1</td>\n",
       "      <td>1</td>\n",
       "    </tr>\n",
       "    <tr>\n",
       "      <th>5835</th>\n",
       "      <td>477666</td>\n",
       "      <td>1</td>\n",
       "      <td>1</td>\n",
       "      <td>4</td>\n",
       "      <td>3</td>\n",
       "      <td>2</td>\n",
       "      <td>3</td>\n",
       "      <td>1</td>\n",
       "      <td>1</td>\n",
       "      <td>1</td>\n",
       "      <td>...</td>\n",
       "      <td>1</td>\n",
       "      <td>1</td>\n",
       "      <td>1</td>\n",
       "      <td>5</td>\n",
       "      <td>22</td>\n",
       "      <td>2</td>\n",
       "      <td>1</td>\n",
       "      <td>1</td>\n",
       "      <td>1</td>\n",
       "      <td>1</td>\n",
       "    </tr>\n",
       "  </tbody>\n",
       "</table>\n",
       "<p>5836 rows × 21 columns</p>\n",
       "</div>"
      ],
      "text/plain": [
       "      RespId  Q3_1  Q3_2  Q3_3  Q3_4  Q3_5  Q3_6  Q4_1  Q4_2  Q4_3  ...  Q4_5  \\\n",
       "0     470001     1     1     4     4     3     2     2     1     2  ...     2   \n",
       "1     470002     3     3     4     3     3     2     2     2     2  ...     3   \n",
       "2     470003     2     2     3     3     2     2     2     2     3  ...     2   \n",
       "3     470007     1     1     4     4     2     1     1     2     2  ...     2   \n",
       "4     480008     4     1     1     1     2     4     1     1     1  ...     1   \n",
       "...      ...   ...   ...   ...   ...   ...   ...   ...   ...   ...  ...   ...   \n",
       "5831  477662     1     1     3     1     1     2     1     1     2  ...     2   \n",
       "5832  477663     1     1     3     2     2     1     1     1     2  ...     1   \n",
       "5833  488322     1     3     4     2     4     2     2     1     1  ...     2   \n",
       "5834  488325     4     3     3     3     3     3     2     2     1  ...     2   \n",
       "5835  477666     1     1     4     3     2     3     1     1     1  ...     1   \n",
       "\n",
       "      Q4_6  Q5  Q30  ppage  educ  race  gender  income_cat  voter_category  \n",
       "0        2   1    2     73     1     4       1           3               1  \n",
       "1        1   1    3     90     1     4       1           4               1  \n",
       "2        3   1    2     53     1     4       2           4               2  \n",
       "3        2   1    2     58     3     1       1           2               2  \n",
       "4        1   1    1     81     2     4       2           2               1  \n",
       "...    ...  ..  ...    ...   ...   ...     ...         ...             ...  \n",
       "5831     2   1    2     27     3     2       2           2               1  \n",
       "5832     3   1    2     59     2     4       1           4               3  \n",
       "5833     2   1    2     51     1     3       2           4               2  \n",
       "5834     2   2    3     22     2     1       1           1               1  \n",
       "5835     1   1    5     22     2     1       1           1               1  \n",
       "\n",
       "[5836 rows x 21 columns]"
      ]
     },
     "execution_count": 12,
     "metadata": {},
     "output_type": "execute_result"
    }
   ],
   "source": [
    "# Imported the CSV file with the non-voters data:\n",
    "main_df = pd.read_csv('nonvoters_data_clean.csv')\n",
    "main_df"
   ]
  },
  {
   "cell_type": "code",
   "execution_count": 13,
   "id": "6d3090cc",
   "metadata": {},
   "outputs": [
    {
     "data": {
      "text/plain": [
       "<sqlite3.Cursor at 0x7fe0ae3a0fc0>"
      ]
     },
     "execution_count": 13,
     "metadata": {},
     "output_type": "execute_result"
    }
   ],
   "source": [
    "create_sql_responses = \"CREATE TABLE IF NOT EXISTS responses (RespId INTEGER, q3_1 INTEGER, q3_2 INTEGER, q3_3 INTEGER, \\\n",
    "            q3_4 INTEGER, q3_5 INTEGER, q3_6 INTEGER, q4_1 INTEGER, q4_2 INTEGER, q4_3 INTEGER, q4_4 INTEGER, \\\n",
    "            q4_5 INTEGER, q4_6 INTEGER, q5 INTEGER, q30 INTEGER, pp_age INTEGER, educ INTEGER, race INTEGER, \\\n",
    "            gender INTEGER, income_cat INTEGER, voter_category INTEGER, \\\n",
    "            FOREIGN KEY (q3_1) REFERENCES agree_disagree_likert(ID), \\\n",
    "            FOREIGN KEY (q3_2) REFERENCES agree_disagree_likert(ID), \\\n",
    "            FOREIGN KEY (q3_3) REFERENCES agree_disagree_likert(ID), \\\n",
    "            FOREIGN KEY (q3_4) REFERENCES agree_disagree_likert(ID), \\\n",
    "            FOREIGN KEY (q3_5) REFERENCES agree_disagree_likert(ID), \\\n",
    "            FOREIGN KEY (q3_6) REFERENCES agree_disagree_likert(ID), \\\n",
    "            FOREIGN KEY (q4_1) REFERENCES impact_likert(ID), \\\n",
    "            FOREIGN KEY (q4_2) REFERENCES impact_likert(ID), \\\n",
    "            FOREIGN KEY (q4_3) REFERENCES impact_likert(ID), \\\n",
    "            FOREIGN KEY (q4_4) REFERENCES impact_likert(ID), \\\n",
    "            FOREIGN KEY (q4_5) REFERENCES impact_likert(ID), \\\n",
    "            FOREIGN KEY (q4_6) REFERENCES impact_likert(ID), \\\n",
    "            FOREIGN KEY (q5) REFERENCES q5_responses(ID), \\\n",
    "            FOREIGN KEY (q30) REFERENCES q30_responses(ID), \\\n",
    "            FOREIGN KEY (educ) REFERENCES educ_responses(ID), \\\n",
    "            FOREIGN KEY (race) REFERENCES race_responses(ID), \\\n",
    "            FOREIGN KEY (gender) REFERENCES gender_responses(ID), \\\n",
    "            FOREIGN KEY (income_cat) REFERENCES income_cat_responses(ID), \\\n",
    "            FOREIGN KEY (voter_category) REFERENCES voter_category_responses(ID))\"\n",
    "cursor = conn.cursor()\n",
    "cursor.execute(create_sql_responses)"
   ]
  },
  {
   "cell_type": "code",
   "execution_count": 14,
   "id": "4b5df462",
   "metadata": {},
   "outputs": [],
   "source": [
    "for row in main_df.itertuples():\n",
    "    insert_sql_responses = f\"INSERT INTO responses (RespId, q3_1, q3_2, q3_3, q3_4, q3_5, q3_6, q4_1, q4_2, q4_3, q4_4, q4_5, \\\n",
    "                q4_6, q5, q30, pp_age, educ, race, gender, income_cat, voter_category) VALUES ({row[1]}, {row[2]}, \\\n",
    "                {row[3]}, {row[4]}, {row[5]}, {row[6]}, {row[7]}, {row[8]}, {row[9]}, {row[10]}, {row[11]}, {row[12]},\\\n",
    "                {row[13]}, {row[14]}, {row[15]}, {row[16]}, {row[17]}, {row[18]}, {row[19]}, {row[20]}, {row[21]})\"\n",
    "    cursor.execute(insert_sql_responses)"
   ]
  },
  {
   "cell_type": "code",
   "execution_count": 15,
   "id": "d3771af2",
   "metadata": {},
   "outputs": [],
   "source": [
    "conn.commit()"
   ]
  },
  {
   "cell_type": "code",
   "execution_count": null,
   "id": "f92df968",
   "metadata": {},
   "outputs": [],
   "source": []
  }
 ],
 "metadata": {
  "kernelspec": {
   "display_name": "Python [conda env:SQLAlchemy]",
   "language": "python",
   "name": "conda-env-SQLAlchemy-py"
  },
  "language_info": {
   "codemirror_mode": {
    "name": "ipython",
    "version": 3
   },
   "file_extension": ".py",
   "mimetype": "text/x-python",
   "name": "python",
   "nbconvert_exporter": "python",
   "pygments_lexer": "ipython3",
   "version": "3.10.9"
  }
 },
 "nbformat": 4,
 "nbformat_minor": 5
}
