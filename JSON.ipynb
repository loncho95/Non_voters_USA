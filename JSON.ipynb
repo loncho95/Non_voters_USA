{
 "cells": [
  {
   "cell_type": "code",
   "execution_count": 2,
   "id": "11967bf2",
   "metadata": {},
   "outputs": [],
   "source": [
    "import csv\n",
    "import json\n",
    "csv_file = open('nonvoters_data.csv', 'r')\n",
    "csv_reader = csv.DictReader(csv_file)\n",
    "data = [row for row in csv_reader]\n",
    "csv_file.close()\n",
    "\n",
    "json_data = json.dumps(data)\n",
    "\n",
    "with open('nonvoters_data.json', 'w') as json_file:\n",
    "    json_file.write(json_data)"
   ]
  },
  {
   "cell_type": "code",
   "execution_count": null,
   "id": "f9d85615",
   "metadata": {},
   "outputs": [],
   "source": []
  },
  {
   "cell_type": "code",
   "execution_count": null,
   "id": "9fade4ee",
   "metadata": {},
   "outputs": [],
   "source": []
  }
 ],
 "metadata": {
  "kernelspec": {
   "display_name": "Python [conda env:PythonData] *",
   "language": "python",
   "name": "conda-env-PythonData-py"
  },
  "language_info": {
   "codemirror_mode": {
    "name": "ipython",
    "version": 3
   },
   "file_extension": ".py",
   "mimetype": "text/x-python",
   "name": "python",
   "nbconvert_exporter": "python",
   "pygments_lexer": "ipython3",
   "version": "3.10.9"
  }
 },
 "nbformat": 4,
 "nbformat_minor": 5
}
